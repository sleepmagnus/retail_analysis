{
 "cells": [
  {
   "cell_type": "code",
   "execution_count": 24,
   "metadata": {},
   "outputs": [],
   "source": [
    "import pandas as pd\n",
    "import seaborn as sns\n",
    "import matplotlib.pyplot as plt"
   ]
  },
  {
   "cell_type": "code",
   "execution_count": 25,
   "metadata": {},
   "outputs": [],
   "source": [
    "df0 = pd.read_csv(\"customer_shopping_data.csv\")\n",
    "\n"
   ]
  },
  {
   "cell_type": "code",
   "execution_count": 26,
   "metadata": {},
   "outputs": [],
   "source": [
    "df1 = df0.copy()"
   ]
  },
  {
   "cell_type": "code",
   "execution_count": 27,
   "metadata": {},
   "outputs": [
    {
     "name": "stdout",
     "output_type": "stream",
     "text": [
      "<class 'pandas.core.frame.DataFrame'>\n",
      "RangeIndex: 99457 entries, 0 to 99456\n",
      "Data columns (total 10 columns):\n",
      " #   Column          Non-Null Count  Dtype  \n",
      "---  ------          --------------  -----  \n",
      " 0   invoice_no      99457 non-null  object \n",
      " 1   customer_id     99457 non-null  object \n",
      " 2   gender          99457 non-null  object \n",
      " 3   age             99457 non-null  int64  \n",
      " 4   category        99457 non-null  object \n",
      " 5   quantity        99457 non-null  int64  \n",
      " 6   price           99457 non-null  float64\n",
      " 7   payment_method  99457 non-null  object \n",
      " 8   invoice_date    99457 non-null  object \n",
      " 9   shopping_mall   99457 non-null  object \n",
      "dtypes: float64(1), int64(2), object(7)\n",
      "memory usage: 7.6+ MB\n"
     ]
    }
   ],
   "source": [
    "df0.info()"
   ]
  },
  {
   "cell_type": "code",
   "execution_count": 28,
   "metadata": {},
   "outputs": [],
   "source": [
    "# convertir el\n",
    "df1['invoice_date'] = pd.to_datetime( df1['invoice_date'], dayfirst=True )"
   ]
  },
  {
   "cell_type": "code",
   "execution_count": 29,
   "metadata": {},
   "outputs": [
    {
     "data": {
      "text/plain": [
       "0   2022-08-05\n",
       "1   2021-12-12\n",
       "Name: invoice_date, dtype: datetime64[ns]"
      ]
     },
     "execution_count": 29,
     "metadata": {},
     "output_type": "execute_result"
    }
   ],
   "source": [
    "df1['invoice_date'].head(2)"
   ]
  },
  {
   "cell_type": "code",
   "execution_count": 30,
   "metadata": {},
   "outputs": [
    {
     "name": "stdout",
     "output_type": "stream",
     "text": [
      "<class 'pandas.core.frame.DataFrame'>\n",
      "RangeIndex: 99457 entries, 0 to 99456\n",
      "Data columns (total 10 columns):\n",
      " #   Column          Non-Null Count  Dtype         \n",
      "---  ------          --------------  -----         \n",
      " 0   invoice_no      99457 non-null  object        \n",
      " 1   customer_id     99457 non-null  object        \n",
      " 2   gender          99457 non-null  object        \n",
      " 3   age             99457 non-null  int64         \n",
      " 4   category        99457 non-null  object        \n",
      " 5   quantity        99457 non-null  int64         \n",
      " 6   price           99457 non-null  float64       \n",
      " 7   payment_method  99457 non-null  object        \n",
      " 8   invoice_date    99457 non-null  datetime64[ns]\n",
      " 9   shopping_mall   99457 non-null  object        \n",
      "dtypes: datetime64[ns](1), float64(1), int64(2), object(6)\n",
      "memory usage: 7.6+ MB\n"
     ]
    }
   ],
   "source": [
    "df1.info()"
   ]
  },
  {
   "cell_type": "code",
   "execution_count": 31,
   "metadata": {},
   "outputs": [],
   "source": [
    "# agregar columnas para anuales\n",
    "df1['year'] = df1['invoice_date'].dt.strftime('%Y')"
   ]
  },
  {
   "cell_type": "code",
   "execution_count": 32,
   "metadata": {},
   "outputs": [],
   "source": [
    "df1['month'] = df1['invoice_date'].dt.month"
   ]
  },
  {
   "cell_type": "code",
   "execution_count": 33,
   "metadata": {},
   "outputs": [
    {
     "data": {
      "text/plain": [
       "0     8\n",
       "1    12\n",
       "2    11\n",
       "3     5\n",
       "4    10\n",
       "Name: month, dtype: int32"
      ]
     },
     "execution_count": 33,
     "metadata": {},
     "output_type": "execute_result"
    }
   ],
   "source": [
    "df1['month'].head()"
   ]
  },
  {
   "cell_type": "code",
   "execution_count": 34,
   "metadata": {},
   "outputs": [
    {
     "data": {
      "text/html": [
       "<div>\n",
       "<style scoped>\n",
       "    .dataframe tbody tr th:only-of-type {\n",
       "        vertical-align: middle;\n",
       "    }\n",
       "\n",
       "    .dataframe tbody tr th {\n",
       "        vertical-align: top;\n",
       "    }\n",
       "\n",
       "    .dataframe thead th {\n",
       "        text-align: right;\n",
       "    }\n",
       "</style>\n",
       "<table border=\"1\" class=\"dataframe\">\n",
       "  <thead>\n",
       "    <tr style=\"text-align: right;\">\n",
       "      <th></th>\n",
       "      <th>invoice_no</th>\n",
       "      <th>customer_id</th>\n",
       "      <th>gender</th>\n",
       "      <th>age</th>\n",
       "      <th>category</th>\n",
       "      <th>quantity</th>\n",
       "      <th>price</th>\n",
       "      <th>payment_method</th>\n",
       "      <th>invoice_date</th>\n",
       "      <th>shopping_mall</th>\n",
       "      <th>year</th>\n",
       "      <th>month</th>\n",
       "    </tr>\n",
       "  </thead>\n",
       "  <tbody>\n",
       "    <tr>\n",
       "      <th>0</th>\n",
       "      <td>I138884</td>\n",
       "      <td>C241288</td>\n",
       "      <td>Female</td>\n",
       "      <td>28</td>\n",
       "      <td>Clothing</td>\n",
       "      <td>5</td>\n",
       "      <td>1500.40</td>\n",
       "      <td>Credit Card</td>\n",
       "      <td>2022-08-05</td>\n",
       "      <td>Kanyon</td>\n",
       "      <td>2022</td>\n",
       "      <td>8</td>\n",
       "    </tr>\n",
       "    <tr>\n",
       "      <th>1</th>\n",
       "      <td>I317333</td>\n",
       "      <td>C111565</td>\n",
       "      <td>Male</td>\n",
       "      <td>21</td>\n",
       "      <td>Shoes</td>\n",
       "      <td>3</td>\n",
       "      <td>1800.51</td>\n",
       "      <td>Debit Card</td>\n",
       "      <td>2021-12-12</td>\n",
       "      <td>Forum Istanbul</td>\n",
       "      <td>2021</td>\n",
       "      <td>12</td>\n",
       "    </tr>\n",
       "    <tr>\n",
       "      <th>2</th>\n",
       "      <td>I127801</td>\n",
       "      <td>C266599</td>\n",
       "      <td>Male</td>\n",
       "      <td>20</td>\n",
       "      <td>Clothing</td>\n",
       "      <td>1</td>\n",
       "      <td>300.08</td>\n",
       "      <td>Cash</td>\n",
       "      <td>2021-11-09</td>\n",
       "      <td>Metrocity</td>\n",
       "      <td>2021</td>\n",
       "      <td>11</td>\n",
       "    </tr>\n",
       "    <tr>\n",
       "      <th>3</th>\n",
       "      <td>I173702</td>\n",
       "      <td>C988172</td>\n",
       "      <td>Female</td>\n",
       "      <td>66</td>\n",
       "      <td>Shoes</td>\n",
       "      <td>5</td>\n",
       "      <td>3000.85</td>\n",
       "      <td>Credit Card</td>\n",
       "      <td>2021-05-16</td>\n",
       "      <td>Metropol AVM</td>\n",
       "      <td>2021</td>\n",
       "      <td>5</td>\n",
       "    </tr>\n",
       "    <tr>\n",
       "      <th>4</th>\n",
       "      <td>I337046</td>\n",
       "      <td>C189076</td>\n",
       "      <td>Female</td>\n",
       "      <td>53</td>\n",
       "      <td>Books</td>\n",
       "      <td>4</td>\n",
       "      <td>60.60</td>\n",
       "      <td>Cash</td>\n",
       "      <td>2021-10-24</td>\n",
       "      <td>Kanyon</td>\n",
       "      <td>2021</td>\n",
       "      <td>10</td>\n",
       "    </tr>\n",
       "  </tbody>\n",
       "</table>\n",
       "</div>"
      ],
      "text/plain": [
       "  invoice_no customer_id  gender  age  category  quantity    price  \\\n",
       "0    I138884     C241288  Female   28  Clothing         5  1500.40   \n",
       "1    I317333     C111565    Male   21     Shoes         3  1800.51   \n",
       "2    I127801     C266599    Male   20  Clothing         1   300.08   \n",
       "3    I173702     C988172  Female   66     Shoes         5  3000.85   \n",
       "4    I337046     C189076  Female   53     Books         4    60.60   \n",
       "\n",
       "  payment_method invoice_date   shopping_mall  year  month  \n",
       "0    Credit Card   2022-08-05          Kanyon  2022      8  \n",
       "1     Debit Card   2021-12-12  Forum Istanbul  2021     12  \n",
       "2           Cash   2021-11-09       Metrocity  2021     11  \n",
       "3    Credit Card   2021-05-16    Metropol AVM  2021      5  \n",
       "4           Cash   2021-10-24          Kanyon  2021     10  "
      ]
     },
     "execution_count": 34,
     "metadata": {},
     "output_type": "execute_result"
    }
   ],
   "source": [
    "df1.head()"
   ]
  },
  {
   "cell_type": "markdown",
   "metadata": {},
   "source": [
    "# relacion de genero y numero de transacciones"
   ]
  },
  {
   "cell_type": "code",
   "execution_count": 35,
   "metadata": {},
   "outputs": [
    {
     "data": {
      "text/plain": [
       "[Text(0.5, 1.0, 'relacion de genero y numero de transacciones')]"
      ]
     },
     "execution_count": 35,
     "metadata": {},
     "output_type": "execute_result"
    },
    {
     "data": {
      "image/png": "[encoded data removed]",
      "text/plain": [
       "<Figure size 640x480 with 1 Axes>"
      ]
     },
     "metadata": {},
     "output_type": "display_data"
    }
   ],
   "source": [
    "sns.countplot(data=df1, x='gender').set(title='relacion de genero y numero de transacciones')"
   ]
  },
  {
   "cell_type": "code",
   "execution_count": 41,
   "metadata": {},
   "outputs": [
    {
     "name": "stdout",
     "output_type": "stream",
     "text": [
      "gender\n",
      "Female    59482\n",
      "Male      39975\n",
      "Name: count, dtype: int64\n"
     ]
    }
   ],
   "source": [
    "# cantitad de elementos por categoria\n",
    "gender_quantity = df1['gender'].value_counts()\n",
    "print(gender_quantity)"
   ]
  },
  {
   "cell_type": "code",
   "execution_count": 42,
   "metadata": {},
   "outputs": [
    {
     "data": {
      "text/plain": [
       "Text(0.5, 1.0, 'relacion de transacciones entre hombres y mujeres')"
      ]
     },
     "execution_count": 42,
     "metadata": {},
     "output_type": "execute_result"
    },
    {
     "data": {
      "image/png": "[encoded data removed]",
      "text/plain": [
       "<Figure size 640x480 with 1 Axes>"
      ]
     },
     "metadata": {},
     "output_type": "display_data"
    }
   ],
   "source": [
    "# histograma\n",
    "plt.pie(gender_quantity, labels=gender_quantity.index, autopct='%1.1f%%')\n",
    "plt.title('relacion de transacciones entre hombres y mujeres')"
   ]
  },
  {
   "cell_type": "markdown",
   "metadata": {},
   "source": [
    "# Distribucion de edades por numero de transacciones"
   ]
  },
  {
   "cell_type": "code",
   "execution_count": null,
   "metadata": {},
   "outputs": [],
   "source": []
  }
 ],
 "metadata": {
  "kernelspec": {
   "display_name": "Python 3",
   "language": "python",
   "name": "python3"
  },
  "language_info": {
   "codemirror_mode": {
    "name": "ipython",
    "version": 3
   },
   "file_extension": ".py",
   "mimetype": "text/x-python",
   "name": "python",
   "nbconvert_exporter": "python",
   "pygments_lexer": "ipython3",
   "version": "3.11.9"
  }
 },
 "nbformat": 4,
 "nbformat_minor": 2
}
